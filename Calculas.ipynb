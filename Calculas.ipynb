{
 "cells": [
  {
   "cell_type": "markdown",
   "metadata": {},
   "source": [
    "## ft calculator"
   ]
  },
  {
   "cell_type": "code",
   "execution_count": 12,
   "metadata": {},
   "outputs": [],
   "source": [
    "from tkinter import*\n",
    "\n",
    "win = Tk()\n",
    "win.geometry(\"220x220\")\n",
    "win.config(bg = 'lightpink')\n",
    "win.title('Height Calculator')\n",
    "\n",
    "def convert_meter():\n",
    "    value = float(e1.get())\n",
    "    mt = value * 0.3048\n",
    "    meter.set(mt)\n",
    "def clear():\n",
    "    feet.set(\" \")\n",
    "    meter.set(\" \")\n",
    "    centimeter.set(\" \")\n",
    "def convert_centimeter():\n",
    "    value = float(e1.get())\n",
    "    centi_mt = value * 30.48\n",
    "    centimeter.set(centi_mt)    \n",
    "    \n",
    "    \n",
    "feet = DoubleVar()\n",
    "l1 = Label(win, text = 'Feet', bg = 'skyblue', fg = 'blue', padx = 20)\n",
    "l1.place(x = 3, y = 4)\n",
    "e1 = Entry(win,textvariable = feet)\n",
    "e1.place(x = 150, y = 4)\n",
    "e1.delete(0,'end')\n",
    "\n",
    "meter = DoubleVar()\n",
    "l2 = Label(win, text = 'meter', bg = 'skyblue', fg = 'blue', padx = 20)\n",
    "l2.place(x = 3, y = 60)\n",
    "e2 = Entry(win,textvariable = meter)\n",
    "e2.place(x = 150, y = 60)\n",
    "e2.delete(0,'end')\n",
    "\n",
    "centimeter = DoubleVar()\n",
    "l3 = Label(win, text = 'Centimeter', bg = 'skyblue', fg = 'blue')\n",
    "l3.place(x = 3, y = 116)\n",
    "e3 = Entry(win,textvariable = centimeter)\n",
    "e3.place(x = 150, y = 116)\n",
    "e3.delete(0,'end')\n",
    "\n",
    "b_calculate = Button(win, text = 'Meter', bg = 'green', fg = 'white', command = convert_meter)\n",
    "b_calculate.place(x = 3, y = 175)\n",
    "\n",
    "b_calculate = Button(win, text = 'Centimeter', bg = 'green', fg = 'white', command = convert_centimeter)\n",
    "b_calculate.place(x = 3, y = 250)\n",
    "\n",
    "b_clear = Button(win, text = 'Clear', bg = 'green', fg = 'white', command = clear)\n",
    "b_clear.place(x = 150, y = 175)\n",
    "\n",
    "\n",
    "\n",
    "win.mainloop()"
   ]
  },
  {
   "cell_type": "markdown",
   "metadata": {},
   "source": [
    "## tip calculator"
   ]
  },
  {
   "cell_type": "code",
   "execution_count": 27,
   "metadata": {},
   "outputs": [
    {
     "data": {
      "text/plain": [
       "<__main__.Tipcalculator at 0x1465eaa3370>"
      ]
     },
     "execution_count": 27,
     "metadata": {},
     "output_type": "execute_result"
    }
   ],
   "source": [
    "from tkinter import *\n",
    "class Tipcalculator():\n",
    "    def __init__(self):\n",
    "        \n",
    "        win = Tk()\n",
    "        win.config(bg = \"lightblue\")\n",
    "        win.geometry(\"500x250\")\n",
    "        \n",
    "        self.meal_cost = StringVar()\n",
    "        self.Tip = StringVar()\n",
    "        self.Tip_percents = IntVar()\n",
    "        self.Total_cost = StringVar()\n",
    "        \n",
    "        \n",
    "        Tip_pecent = Label(win, text = \"Tip Percent\", bg = 'purple', fg  = 'yellow', padx = 15, pady = 5)\n",
    "        Tip_pecent.grid(row = 0, column = 0)\n",
    "\n",
    "        five_percent = Radiobutton(win, text = '0.5%',variable = self.Tip_percents,value = 5)\n",
    "        five_percent.grid(row = 1, column = 0)\n",
    "        ten_percent = Radiobutton(win, text = '10%',variable = self.Tip_percents,value = 10)\n",
    "        ten_percent.grid(row = 2, column = 0)\n",
    "        fifteen_percent = Radiobutton(win, text = '15%',variable = self.Tip_percents,value = 15)\n",
    "        fifteen_percent.grid(row = 3, column = 0)\n",
    "        twenty_percent = Radiobutton(win, text = '20%',variable = self.Tip_percents,value = 20)\n",
    "        twenty_percent.grid(row = 4, column = 0)\n",
    "        twenty_five_percent = Radiobutton(win, text = '25%',variable = self.Tip_percents,value = 25)\n",
    "        twenty_five_percent.grid(row = 5, column = 0)\n",
    "        thirty_percent = Radiobutton(win, text = '30%',variable = self.Tip_percents,value = 30)\n",
    "        thirty_percent.grid(row = 5, column = 0)\n",
    "\n",
    "\n",
    "        Bill_Amt = Label(win, text = 'Bill Amt', bg = 'orange', fg = 'black', padx = 20, pady = 5)\n",
    "        Bill_Amt.grid(row = 0, column = 10 )\n",
    "        e1 = Entry(win, textvariable = self.meal_cost)\n",
    "        e1.grid(row = 0,column = 15)\n",
    "\n",
    "        Tip_Amt = Label(win, text = 'Tip Amount', bg = 'yellow', fg = 'black', padx = 15, pady = 5)\n",
    "        Tip_Amt.grid(row = 4, column = 10)\n",
    "        e2 = Entry(win, textvariable = self.Tip)\n",
    "        e2.grid(row = 4, column = 15)\n",
    "        \n",
    "        Total_Bill = Label(win, text = 'Total Bill', bg = 'grey', fg = 'black', padx = 15, pady = 5)\n",
    "        Total_Bill.grid(row = 8, column = 10)\n",
    "        e3 = Entry(win, textvariable = self.Total_cost)\n",
    "        e3.grid(row = 8, column = 15)\n",
    "        \n",
    "        b_calculate = Button(win, text = \"calculate\", command = self.cal).grid(row = 10, column = 15)\n",
    "        b_clear = Button(win, text = \"Clear\", command = self.clear).grid(row = 10, column = 16)\n",
    "\n",
    "        win.mainloop()\n",
    "    def cal(self):\n",
    "        value1 = float(self.meal_cost.get())\n",
    "        value2 = self.Tip_percents.get()/100\n",
    "        tipamt = value1 * value2\n",
    "        self.Tip.set(tipamt)\n",
    "        \n",
    "        total =  value1+tipamt\n",
    "        self.Total_cost.set(total)\n",
    "    def clear(self):\n",
    "        self.meal_cost.set(\" \")\n",
    "        self.Total_cost.set(\" \")\n",
    "        self.Tip.set(\" \")\n",
    "Tipcalculator()"
   ]
  }
 ],
 "metadata": {
  "kernelspec": {
   "display_name": "Python 3",
   "language": "python",
   "name": "python3"
  },
  "language_info": {
   "codemirror_mode": {
    "name": "ipython",
    "version": 3
   },
   "file_extension": ".py",
   "mimetype": "text/x-python",
   "name": "python",
   "nbconvert_exporter": "python",
   "pygments_lexer": "ipython3",
   "version": "3.8.5"
  }
 },
 "nbformat": 4,
 "nbformat_minor": 4
}

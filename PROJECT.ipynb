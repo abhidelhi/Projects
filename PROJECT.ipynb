{
 "cells": [
  {
   "cell_type": "markdown",
   "metadata": {},
   "source": [
    "# GUESSING GAME CHALLENGE"
   ]
  },
  {
   "cell_type": "code",
   "execution_count": 1,
   "metadata": {},
   "outputs": [
    {
     "name": "stdout",
     "output_type": "stream",
     "text": [
      "Abhi\n",
      "Hello Abhi, Welcome to Guessing Game Challenge\n"
     ]
    }
   ],
   "source": [
    "name = input()\n",
    "print('Hello {}, Welcome to Guessing Game Challenge'.format(name))"
   ]
  },
  {
   "cell_type": "code",
   "execution_count": 2,
   "metadata": {},
   "outputs": [
    {
     "name": "stdout",
     "output_type": "stream",
     "text": [
      "60\n"
     ]
    }
   ],
   "source": [
    "import random\n",
    "rng = random.randint(1,100)\n",
    "print(rng)"
   ]
  },
  {
   "cell_type": "code",
   "execution_count": 21,
   "metadata": {},
   "outputs": [
    {
     "name": "stdout",
     "output_type": "stream",
     "text": [
      "I'm thinking a number between 1 to 100\n",
      "Guess a number 1: 90\n",
      "COLDER!\n",
      "I'm thinking a number between 1 to 100\n",
      "Guess a number 2: 09\n",
      "COLD!\n",
      "I'm thinking a number between 1 to 100\n",
      "Guess a number 3: 87\n",
      "COLD!\n",
      "I'm thinking a number between 1 to 100\n",
      "Guess a number 4: 765\n",
      "Out of Bound! Try again\n",
      "I'm thinking a number between 1 to 100\n",
      "Guess a number 4: 60\n",
      "Abhi, You have Won this Game Challenge in 4 Guesses\n",
      "Congrutulate to you!\n"
     ]
    }
   ],
   "source": [
    "count = [0]\n",
    "while True:\n",
    "    print(\"I'm thinking a number between 1 to 100\")\n",
    "    guess = int(input('Guess a number {}: '.format(len(count))))\n",
    "    if guess > 100 or guess < 0:\n",
    "        print('Out of Bound! Try again')\n",
    "        continue\n",
    "    if guess == rng:\n",
    "        print('{}, You have Won this Game Challenge in {} Guesses'.format(name,len(count)))\n",
    "        print('Congrutulate to you!')\n",
    "        break\n",
    "    count.append(guess)\n",
    "    if count[-2]:\n",
    "        if abs(guess-rng) > abs(guess-count[-2]):\n",
    "            print('WARMER!')\n",
    "        else:\n",
    "            print('COLDER!')\n",
    "    else:\n",
    "        if abs(guess-rng) > 10:\n",
    "            print('COLD!')\n",
    "        else:\n",
    "            print('WARM!')"
   ]
  },
  {
   "cell_type": "code",
   "execution_count": null,
   "metadata": {},
   "outputs": [],
   "source": []
  }
 ],
 "metadata": {
  "kernelspec": {
   "display_name": "Python 3",
   "language": "python",
   "name": "python3"
  },
  "language_info": {
   "codemirror_mode": {
    "name": "ipython",
    "version": 3
   },
   "file_extension": ".py",
   "mimetype": "text/x-python",
   "name": "python",
   "nbconvert_exporter": "python",
   "pygments_lexer": "ipython3",
   "version": "3.8.5"
  }
 },
 "nbformat": 4,
 "nbformat_minor": 4
}
